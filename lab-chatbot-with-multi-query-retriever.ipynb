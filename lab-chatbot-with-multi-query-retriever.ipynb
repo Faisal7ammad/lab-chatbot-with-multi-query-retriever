{
  "cells": [
    {
      "cell_type": "markdown",
      "metadata": {
        "id": "Nvl7WL4RD4Mi"
      },
      "source": [
        "# Question Answering with LangChain, OpenAI, and MultiQuery Retriever\n",
        "\n",
        "This interactive workbook demonstrates example of Elasticsearch's [MultiQuery Retriever](https://api.python.langchain.com/en/latest/retrievers/langchain.retrievers.multi_query.MultiQueryRetriever.html) to generate similar queries for a given user input and apply all queries to retrieve a larger set of relevant documents from a vectorstore.\n",
        "\n",
        "Before we begin, we first split the fictional workplace documents into passages with `langchain` and uses OpenAI to transform these passages into embeddings and then store these into Elasticsearch.\n",
        "\n",
        "We will then ask a question, generate similar questions using langchain and OpenAI, retrieve relevant passages from the vector store, and use langchain and OpenAI again to provide a summary for the questions."
      ]
    },
    {
      "cell_type": "markdown",
      "metadata": {
        "id": "MHhWxDuID4Mj"
      },
      "source": [
        "## Install packages and import modules"
      ]
    },
    {
      "cell_type": "code",
      "execution_count": 1,
      "metadata": {
        "colab": {
          "base_uri": "https://localhost:8080/"
        },
        "id": "amhzoW-PD4Mk",
        "outputId": "99aef1ec-3409-4551-d42a-381a2f0486a3"
      },
      "outputs": [
        {
          "output_type": "stream",
          "name": "stdout",
          "text": [
            "\u001b[2K     \u001b[90m━━━━━━━━━━━━━━━━━━━━━━━━━━━━━━━━━━━━━━━━\u001b[0m \u001b[32m657.6/657.6 kB\u001b[0m \u001b[31m3.0 MB/s\u001b[0m eta \u001b[36m0:00:00\u001b[0m\n",
            "\u001b[2K     \u001b[90m━━━━━━━━━━━━━━━━━━━━━━━━━━━━━━━━━━━━━━━━\u001b[0m \u001b[32m111.7/111.7 kB\u001b[0m \u001b[31m4.7 MB/s\u001b[0m eta \u001b[36m0:00:00\u001b[0m\n",
            "\u001b[2K     \u001b[90m━━━━━━━━━━━━━━━━━━━━━━━━━━━━━━━━━━━━━━━━\u001b[0m \u001b[32m975.5/975.5 kB\u001b[0m \u001b[31m8.1 MB/s\u001b[0m eta \u001b[36m0:00:00\u001b[0m\n",
            "\u001b[2K     \u001b[90m━━━━━━━━━━━━━━━━━━━━━━━━━━━━━━━━━━━━━━━━\u001b[0m \u001b[32m45.9/45.9 kB\u001b[0m \u001b[31m3.4 MB/s\u001b[0m eta \u001b[36m0:00:00\u001b[0m\n",
            "\u001b[2K     \u001b[90m━━━━━━━━━━━━━━━━━━━━━━━━━━━━━━━━━━━━━━━━\u001b[0m \u001b[32m1.1/1.1 MB\u001b[0m \u001b[31m12.7 MB/s\u001b[0m eta \u001b[36m0:00:00\u001b[0m\n",
            "\u001b[2K     \u001b[90m━━━━━━━━━━━━━━━━━━━━━━━━━━━━━━━━━━━━━━━━\u001b[0m \u001b[32m337.4/337.4 kB\u001b[0m \u001b[31m13.8 MB/s\u001b[0m eta \u001b[36m0:00:00\u001b[0m\n",
            "\u001b[2K     \u001b[90m━━━━━━━━━━━━━━━━━━━━━━━━━━━━━━━━━━━━━━━━\u001b[0m \u001b[32m127.5/127.5 kB\u001b[0m \u001b[31m7.5 MB/s\u001b[0m eta \u001b[36m0:00:00\u001b[0m\n",
            "\u001b[2K     \u001b[90m━━━━━━━━━━━━━━━━━━━━━━━━━━━━━━━━━━━━━━━━\u001b[0m \u001b[32m480.2/480.2 kB\u001b[0m \u001b[31m15.8 MB/s\u001b[0m eta \u001b[36m0:00:00\u001b[0m\n",
            "\u001b[2K     \u001b[90m━━━━━━━━━━━━━━━━━━━━━━━━━━━━━━━━━━━━━━━━\u001b[0m \u001b[32m328.3/328.3 kB\u001b[0m \u001b[31m15.8 MB/s\u001b[0m eta \u001b[36m0:00:00\u001b[0m\n",
            "\u001b[?25h\u001b[33mWARNING: elasticsearch 8.14.0 does not provide the extra 'vectorstore-mmr'\u001b[0m\u001b[33m\n",
            "\u001b[2K     \u001b[90m━━━━━━━━━━━━━━━━━━━━━━━━━━━━━━━━━━━━━━━━\u001b[0m \u001b[32m64.5/64.5 kB\u001b[0m \u001b[31m6.1 MB/s\u001b[0m eta \u001b[36m0:00:00\u001b[0m\n",
            "\u001b[2K     \u001b[90m━━━━━━━━━━━━━━━━━━━━━━━━━━━━━━━━━━━━━━━━\u001b[0m \u001b[32m141.1/141.1 kB\u001b[0m \u001b[31m3.8 MB/s\u001b[0m eta \u001b[36m0:00:00\u001b[0m\n",
            "\u001b[2K     \u001b[90m━━━━━━━━━━━━━━━━━━━━━━━━━━━━━━━━━━━━━━━━\u001b[0m \u001b[32m75.6/75.6 kB\u001b[0m \u001b[31m7.3 MB/s\u001b[0m eta \u001b[36m0:00:00\u001b[0m\n",
            "\u001b[2K     \u001b[90m━━━━━━━━━━━━━━━━━━━━━━━━━━━━━━━━━━━━━━━━\u001b[0m \u001b[32m77.9/77.9 kB\u001b[0m \u001b[31m6.6 MB/s\u001b[0m eta \u001b[36m0:00:00\u001b[0m\n",
            "\u001b[2K     \u001b[90m━━━━━━━━━━━━━━━━━━━━━━━━━━━━━━━━━━━━━━━━\u001b[0m \u001b[32m58.3/58.3 kB\u001b[0m \u001b[31m5.4 MB/s\u001b[0m eta \u001b[36m0:00:00\u001b[0m\n",
            "\u001b[?25h"
          ]
        }
      ],
      "source": [
        "!python3 -m pip install -qU jq lark langchain langchain-elasticsearch langchain_openai tiktoken\n",
        "\n",
        "from langchain_openai.embeddings import OpenAIEmbeddings\n",
        "from langchain_elasticsearch import ElasticsearchStore\n",
        "from langchain_openai.llms import OpenAI\n",
        "from langchain.retrievers.multi_query import MultiQueryRetriever\n",
        "from getpass import getpass"
      ]
    },
    {
      "cell_type": "code",
      "source": [
        "!pip install -U langchain-community"
      ],
      "metadata": {
        "colab": {
          "base_uri": "https://localhost:8080/"
        },
        "id": "q5Y8FcMMIQqf",
        "outputId": "c81e12d7-2040-42b7-e054-c2fb311ff4f2"
      },
      "execution_count": 8,
      "outputs": [
        {
          "output_type": "stream",
          "name": "stdout",
          "text": [
            "Collecting langchain-community\n",
            "  Downloading langchain_community-0.2.6-py3-none-any.whl (2.2 MB)\n",
            "\u001b[2K     \u001b[90m━━━━━━━━━━━━━━━━━━━━━━━━━━━━━━━━━━━━━━━━\u001b[0m \u001b[32m2.2/2.2 MB\u001b[0m \u001b[31m24.0 MB/s\u001b[0m eta \u001b[36m0:00:00\u001b[0m\n",
            "\u001b[?25hRequirement already satisfied: PyYAML>=5.3 in /usr/local/lib/python3.10/dist-packages (from langchain-community) (6.0.1)\n",
            "Requirement already satisfied: SQLAlchemy<3,>=1.4 in /usr/local/lib/python3.10/dist-packages (from langchain-community) (2.0.31)\n",
            "Requirement already satisfied: aiohttp<4.0.0,>=3.8.3 in /usr/local/lib/python3.10/dist-packages (from langchain-community) (3.9.5)\n",
            "Collecting dataclasses-json<0.7,>=0.5.7 (from langchain-community)\n",
            "  Downloading dataclasses_json-0.6.7-py3-none-any.whl (28 kB)\n",
            "Requirement already satisfied: langchain<0.3.0,>=0.2.6 in /usr/local/lib/python3.10/dist-packages (from langchain-community) (0.2.6)\n",
            "Requirement already satisfied: langchain-core<0.3.0,>=0.2.10 in /usr/local/lib/python3.10/dist-packages (from langchain-community) (0.2.11)\n",
            "Requirement already satisfied: langsmith<0.2.0,>=0.1.0 in /usr/local/lib/python3.10/dist-packages (from langchain-community) (0.1.83)\n",
            "Requirement already satisfied: numpy<2,>=1 in /usr/local/lib/python3.10/dist-packages (from langchain-community) (1.25.2)\n",
            "Requirement already satisfied: requests<3,>=2 in /usr/local/lib/python3.10/dist-packages (from langchain-community) (2.31.0)\n",
            "Requirement already satisfied: tenacity!=8.4.0,<9.0.0,>=8.1.0 in /usr/local/lib/python3.10/dist-packages (from langchain-community) (8.4.2)\n",
            "Requirement already satisfied: aiosignal>=1.1.2 in /usr/local/lib/python3.10/dist-packages (from aiohttp<4.0.0,>=3.8.3->langchain-community) (1.3.1)\n",
            "Requirement already satisfied: attrs>=17.3.0 in /usr/local/lib/python3.10/dist-packages (from aiohttp<4.0.0,>=3.8.3->langchain-community) (23.2.0)\n",
            "Requirement already satisfied: frozenlist>=1.1.1 in /usr/local/lib/python3.10/dist-packages (from aiohttp<4.0.0,>=3.8.3->langchain-community) (1.4.1)\n",
            "Requirement already satisfied: multidict<7.0,>=4.5 in /usr/local/lib/python3.10/dist-packages (from aiohttp<4.0.0,>=3.8.3->langchain-community) (6.0.5)\n",
            "Requirement already satisfied: yarl<2.0,>=1.0 in /usr/local/lib/python3.10/dist-packages (from aiohttp<4.0.0,>=3.8.3->langchain-community) (1.9.4)\n",
            "Requirement already satisfied: async-timeout<5.0,>=4.0 in /usr/local/lib/python3.10/dist-packages (from aiohttp<4.0.0,>=3.8.3->langchain-community) (4.0.3)\n",
            "Collecting marshmallow<4.0.0,>=3.18.0 (from dataclasses-json<0.7,>=0.5.7->langchain-community)\n",
            "  Downloading marshmallow-3.21.3-py3-none-any.whl (49 kB)\n",
            "\u001b[2K     \u001b[90m━━━━━━━━━━━━━━━━━━━━━━━━━━━━━━━━━━━━━━━━\u001b[0m \u001b[32m49.2/49.2 kB\u001b[0m \u001b[31m5.8 MB/s\u001b[0m eta \u001b[36m0:00:00\u001b[0m\n",
            "\u001b[?25hCollecting typing-inspect<1,>=0.4.0 (from dataclasses-json<0.7,>=0.5.7->langchain-community)\n",
            "  Downloading typing_inspect-0.9.0-py3-none-any.whl (8.8 kB)\n",
            "Requirement already satisfied: langchain-text-splitters<0.3.0,>=0.2.0 in /usr/local/lib/python3.10/dist-packages (from langchain<0.3.0,>=0.2.6->langchain-community) (0.2.2)\n",
            "Requirement already satisfied: pydantic<3,>=1 in /usr/local/lib/python3.10/dist-packages (from langchain<0.3.0,>=0.2.6->langchain-community) (2.8.0)\n",
            "Requirement already satisfied: jsonpatch<2.0,>=1.33 in /usr/local/lib/python3.10/dist-packages (from langchain-core<0.3.0,>=0.2.10->langchain-community) (1.33)\n",
            "Requirement already satisfied: packaging<25,>=23.2 in /usr/local/lib/python3.10/dist-packages (from langchain-core<0.3.0,>=0.2.10->langchain-community) (24.1)\n",
            "Requirement already satisfied: orjson<4.0.0,>=3.9.14 in /usr/local/lib/python3.10/dist-packages (from langsmith<0.2.0,>=0.1.0->langchain-community) (3.10.6)\n",
            "Requirement already satisfied: charset-normalizer<4,>=2 in /usr/local/lib/python3.10/dist-packages (from requests<3,>=2->langchain-community) (3.3.2)\n",
            "Requirement already satisfied: idna<4,>=2.5 in /usr/local/lib/python3.10/dist-packages (from requests<3,>=2->langchain-community) (3.7)\n",
            "Requirement already satisfied: urllib3<3,>=1.21.1 in /usr/local/lib/python3.10/dist-packages (from requests<3,>=2->langchain-community) (2.0.7)\n",
            "Requirement already satisfied: certifi>=2017.4.17 in /usr/local/lib/python3.10/dist-packages (from requests<3,>=2->langchain-community) (2024.6.2)\n",
            "Requirement already satisfied: typing-extensions>=4.6.0 in /usr/local/lib/python3.10/dist-packages (from SQLAlchemy<3,>=1.4->langchain-community) (4.12.2)\n",
            "Requirement already satisfied: greenlet!=0.4.17 in /usr/local/lib/python3.10/dist-packages (from SQLAlchemy<3,>=1.4->langchain-community) (3.0.3)\n",
            "Requirement already satisfied: jsonpointer>=1.9 in /usr/local/lib/python3.10/dist-packages (from jsonpatch<2.0,>=1.33->langchain-core<0.3.0,>=0.2.10->langchain-community) (3.0.0)\n",
            "Requirement already satisfied: annotated-types>=0.4.0 in /usr/local/lib/python3.10/dist-packages (from pydantic<3,>=1->langchain<0.3.0,>=0.2.6->langchain-community) (0.7.0)\n",
            "Requirement already satisfied: pydantic-core==2.20.0 in /usr/local/lib/python3.10/dist-packages (from pydantic<3,>=1->langchain<0.3.0,>=0.2.6->langchain-community) (2.20.0)\n",
            "Collecting mypy-extensions>=0.3.0 (from typing-inspect<1,>=0.4.0->dataclasses-json<0.7,>=0.5.7->langchain-community)\n",
            "  Downloading mypy_extensions-1.0.0-py3-none-any.whl (4.7 kB)\n",
            "Installing collected packages: mypy-extensions, marshmallow, typing-inspect, dataclasses-json, langchain-community\n",
            "Successfully installed dataclasses-json-0.6.7 langchain-community-0.2.6 marshmallow-3.21.3 mypy-extensions-1.0.0 typing-inspect-0.9.0\n"
          ]
        }
      ]
    },
    {
      "cell_type": "markdown",
      "metadata": {
        "id": "Dr1VnM8GD4Ml"
      },
      "source": [
        "## Connect to Elasticsearch\n",
        "\n",
        "ℹ️ We're using an Elastic Cloud deployment of Elasticsearch for this notebook. If you don't have an Elastic Cloud deployment, sign up [here](https://cloud.elastic.co/registration?utm_source=github&utm_content=elasticsearch-labs-notebook) for a free trial.\n",
        "\n",
        "We'll use the **Cloud ID** to identify our deployment, because we are using Elastic Cloud deployment. To find the Cloud ID for your deployment, go to https://cloud.elastic.co/deployments and select your deployment.\n",
        "\n",
        "We will use [ElasticsearchStore](https://api.python.langchain.com/en/latest/vectorstores/langchain.vectorstores.elasticsearch.ElasticsearchStore.html) to connect to our elastic cloud deployment, This would help create and index data easily.  We would also send list of documents that we created in the previous step"
      ]
    },
    {
      "cell_type": "code",
      "execution_count": 5,
      "metadata": {
        "colab": {
          "base_uri": "https://localhost:8080/"
        },
        "id": "VjQ5zDXjD4Ml",
        "outputId": "1c5e91ae-05e7-4a7c-96b7-b4dcef85020d"
      },
      "outputs": [
        {
          "name": "stdout",
          "output_type": "stream",
          "text": [
            "Elastic Cloud ID: ··········\n",
            "Elastic Api Key: ··········\n",
            "OpenAI API key: ··········\n"
          ]
        }
      ],
      "source": [
        "# https://www.elastic.co/search-labs/tutorials/install-elasticsearch/elastic-cloud#finding-your-cloud-id\n",
        "ELASTIC_CLOUD_ID = getpass(\"Elastic Cloud ID: \")\n",
        "\n",
        "# https://www.elastic.co/search-labs/tutorials/install-elasticsearch/elastic-cloud#creating-an-api-key\n",
        "ELASTIC_API_KEY = getpass(\"Elastic Api Key: \")\n",
        "\n",
        "# https://platform.openai.com/api-keys\n",
        "OPENAI_API_KEY = getpass(\"OpenAI API key: \")\n",
        "\n",
        "embeddings = OpenAIEmbeddings(openai_api_key=OPENAI_API_KEY)\n",
        "\n",
        "vectorstore = ElasticsearchStore(\n",
        "    es_cloud_id=ELASTIC_CLOUD_ID,\n",
        "    es_api_key=ELASTIC_API_KEY,\n",
        "    index_name=\"elastic-search\", #give it a meaningful name,\n",
        "    embedding=embeddings,\n",
        ")"
      ]
    },
    {
      "cell_type": "markdown",
      "metadata": {
        "id": "FqtNxtpOD4Mm"
      },
      "source": [
        "## Indexing Data into Elasticsearch\n",
        "Let's download the sample dataset and deserialize the document."
      ]
    },
    {
      "cell_type": "code",
      "execution_count": 6,
      "metadata": {
        "id": "rigzFw1yD4Mm"
      },
      "outputs": [],
      "source": [
        "from urllib.request import urlopen\n",
        "import json\n",
        "\n",
        "url = \"https://raw.githubusercontent.com/elastic/elasticsearch-labs/main/example-apps/chatbot-rag-app/data/data.json\"\n",
        "\n",
        "response = urlopen(url)\n",
        "data = json.load(response)\n",
        "\n",
        "with open(\"temp.json\", \"w\") as json_file:\n",
        "    json.dump(data, json_file)"
      ]
    },
    {
      "cell_type": "markdown",
      "metadata": {
        "id": "9CUdpXD2D4Mm"
      },
      "source": [
        "### Split Documents into Passages\n",
        "\n",
        "We’ll chunk documents into passages in order to improve the retrieval specificity and to ensure that we can provide multiple passages within the context window of the final question answering prompt.\n",
        "\n",
        "Here we are chunking documents into 800 token passages with an overlap of 400 tokens.\n",
        "\n",
        "Here we are using a simple splitter but Langchain offers more advanced splitters to reduce the chance of context being lost."
      ]
    },
    {
      "cell_type": "code",
      "execution_count": 9,
      "metadata": {
        "id": "cZnv1ia6D4Mm"
      },
      "outputs": [],
      "source": [
        "from langchain.document_loaders import JSONLoader\n",
        "from langchain.text_splitter import RecursiveCharacterTextSplitter\n",
        "\n",
        "\n",
        "def metadata_func(record: dict, metadata: dict) -> dict:\n",
        "    #Populate the metadata dictionary with keys name, summary, url, category, and updated_at.\n",
        "    None\n",
        "\n",
        "    return metadata\n",
        "\n",
        "\n",
        "# For more loaders https://python.langchain.com/docs/modules/data_connection/document_loaders/\n",
        "# And 3rd party loaders https://python.langchain.com/docs/modules/data_connection/document_loaders/#third-party-loaders\n",
        "loader = JSONLoader(\n",
        "    file_path=\"temp.json\",\n",
        "    jq_schema=\".[]\",\n",
        "    content_key=\"content\",\n",
        "    metadata_func=metadata_func,\n",
        ")\n",
        "\n",
        "text_splitter = RecursiveCharacterTextSplitter.from_tiktoken_encoder(\n",
        "    chunk_size=800, chunk_overlap=400 #define chunk size and chunk overlap\n",
        ")\n",
        "docs = loader.load_and_split(text_splitter=text_splitter)"
      ]
    },
    {
      "cell_type": "markdown",
      "metadata": {
        "id": "00Xf8pKjD4Mm"
      },
      "source": [
        "### Bulk Import Passages\n",
        "\n",
        "Now that we have split each document into the chunk size of 800, we will now index data to elasticsearch using [ElasticsearchStore.from_documents](https://api.python.langchain.com/en/latest/vectorstores/langchain.vectorstores.elasticsearch.ElasticsearchStore.html#langchain.vectorstores.elasticsearch.ElasticsearchStore.from_documents).\n",
        "\n",
        "We will use Cloud ID, Password and Index name values set in the `Create cloud deployment` step."
      ]
    },
    {
      "cell_type": "code",
      "execution_count": 10,
      "metadata": {
        "id": "uKNIICNPD4Mm"
      },
      "outputs": [],
      "source": [
        "documents = vectorstore.from_documents(\n",
        "    docs,\n",
        "    embeddings,\n",
        "    index_name=\"elastic-search\",\n",
        "    es_cloud_id=ELASTIC_CLOUD_ID,\n",
        "    es_api_key=ELASTIC_API_KEY,\n",
        ")\n",
        "\n",
        "llm = OpenAI(temperature=0, openai_api_key=OPENAI_API_KEY)\n",
        "\n",
        "retriever = MultiQueryRetriever.from_llm(vectorstore.as_retriever(), llm)"
      ]
    },
    {
      "cell_type": "markdown",
      "metadata": {
        "id": "UA6vm-ulD4Mn"
      },
      "source": [
        "# Question Answering with MultiQuery Retriever\n",
        "\n",
        "Now that we have the passages stored in Elasticsearch, we can now ask a question to get the relevant passages."
      ]
    },
    {
      "cell_type": "code",
      "execution_count": 13,
      "metadata": {
        "colab": {
          "base_uri": "https://localhost:8080/"
        },
        "id": "MEKOh-WuD4Mn",
        "outputId": "83f90a34-3f99-4fe6-c03c-83bb8293a14f"
      },
      "outputs": [
        {
          "output_type": "stream",
          "name": "stderr",
          "text": [
            "INFO:langchain.retrievers.multi_query:Generated queries: ['1. Can you provide information on the sales team at NASA?', '2. How does the sales team operate within NASA?', '3. What are the responsibilities of the NASA sales team?']\n"
          ]
        },
        {
          "output_type": "stream",
          "name": "stdout",
          "text": [
            "---- Answer ----\n",
            "The NASA sales team is a part of the Americas region in the sales organization of the company. It is responsible for serving customers and achieving business objectives in North and South America. The team is led by two Area Vice-Presidents, Laura Martinez for North America and Gary Johnson for South America. Their main responsibilities include identifying and pursuing new business opportunities, nurturing existing client relationships, and ensuring customer satisfaction. They also collaborate closely with other departments, such as marketing, product development, and customer support, to deliver high-quality products and services to clients.\n"
          ]
        }
      ],
      "source": [
        "from langchain.schema.runnable import RunnableParallel, RunnablePassthrough\n",
        "from langchain.prompts import ChatPromptTemplate, PromptTemplate\n",
        "from langchain.schema import format_document\n",
        "\n",
        "import logging\n",
        "\n",
        "logging.basicConfig()\n",
        "logging.getLogger(\"langchain.retrievers.multi_query\").setLevel(logging.INFO)\n",
        "\n",
        "LLM_CONTEXT_PROMPT = ChatPromptTemplate.from_template(\n",
        "    \"\"\"You are an assistant for question-answering tasks. Use the following pieces of retrieved context to answer the question. If you don't know the answer, just say that you don't know. Be as verbose and educational in your response as possible.\n",
        "\n",
        "    context: {context}\n",
        "    Question: \"{question}\"\n",
        "    Answer:\n",
        "    \"\"\"\n",
        ")\n",
        "\n",
        "LLM_DOCUMENT_PROMPT = PromptTemplate.from_template(\n",
        "    \"\"\"\n",
        "---\n",
        "SOURCE: {name}\n",
        "{page_content}\n",
        "---\n",
        "\"\"\"\n",
        ")\n",
        "\n",
        "def _combine_documents(\n",
        "    docs, document_prompt=LLM_DOCUMENT_PROMPT, document_separator=\"\\n\\n\"\n",
        "):\n",
        "    # Ensure each document has the required 'name' metadata\n",
        "    for doc in docs:\n",
        "        if 'name' not in doc.metadata:\n",
        "            doc.metadata['name'] = 'Unknown Source'  # Default value if 'name' is missing\n",
        "\n",
        "    doc_strings = [format_document(doc, document_prompt) for doc in docs]\n",
        "    return document_separator.join(doc_strings)\n",
        "\n",
        "_context = RunnableParallel(\n",
        "    context=retriever | _combine_documents,\n",
        "    question=RunnablePassthrough(),\n",
        ")\n",
        "\n",
        "chain = _context | LLM_CONTEXT_PROMPT | llm\n",
        "\n",
        "ans = chain.invoke(\"what is the nasa sales team?\")\n",
        "\n",
        "print(\"---- Answer ----\")\n",
        "print(ans)"
      ]
    },
    {
      "cell_type": "markdown",
      "metadata": {
        "id": "yhgOEinED4Mn"
      },
      "source": [
        "**Generate at least two new iteratioins of the previous cells - Be creative.** Did you master Multi-\n",
        "Query Retriever concepts through this lab?"
      ]
    },
    {
      "cell_type": "code",
      "source": [
        "from urllib.request import urlopen\n",
        "import json\n",
        "\n",
        "# Loading new dataset > Covid 19 data\n",
        "url = \"https://raw.githubusercontent.com/owid/covid-19-data/master/public/data/latest/owid-covid-latest.json\"\n",
        "\n",
        "response = urlopen(url)\n",
        "data = json.load(response)"
      ],
      "metadata": {
        "id": "KKbEuf_2QYC3"
      },
      "execution_count": 43,
      "outputs": []
    },
    {
      "cell_type": "code",
      "source": [
        "# Transform the data into a list of dictionaries\n",
        "documents = []\n",
        "for key, value in data.items():\n",
        "    value['location'] = key\n",
        "    documents.append(value)\n",
        "\n",
        "# Save the transformed data to a JSON file\n",
        "with open(\"temp.json\", \"w\") as json_file:\n",
        "    json.dump(documents, json_file)\n",
        "\n",
        "# Verify the saved JSON data\n",
        "with open(\"temp.json\", \"r\") as json_file:\n",
        "    loaded_data = json.load(json_file)\n",
        "    print(type(loaded_data))  # Should print <class 'list'>\n",
        "    print(loaded_data[:5])    # Print first 5 records for inspection"
      ],
      "metadata": {
        "colab": {
          "base_uri": "https://localhost:8080/"
        },
        "id": "VG5-qA_3LvH6",
        "outputId": "a45af4ca-1cc9-4e24-a31f-0795c887af87"
      },
      "execution_count": 44,
      "outputs": [
        {
          "output_type": "stream",
          "name": "stdout",
          "text": [
            "<class 'list'>\n",
            "[{'continent': 'Asia', 'location': 'AFG', 'last_updated_date': '2024-06-16', 'total_cases': 235214.0, 'new_cases': 0.0, 'new_cases_smoothed': 0.0, 'total_deaths': 7998.0, 'new_deaths': 0.0, 'new_deaths_smoothed': 0.0, 'total_cases_per_million': 5718.965, 'new_cases_per_million': 0.0, 'new_cases_smoothed_per_million': 0.0, 'total_deaths_per_million': 194.462, 'new_deaths_per_million': 0.0, 'new_deaths_smoothed_per_million': 0.0, 'reproduction_rate': None, 'icu_patients': None, 'icu_patients_per_million': None, 'hosp_patients': None, 'hosp_patients_per_million': None, 'weekly_icu_admissions': None, 'weekly_icu_admissions_per_million': None, 'weekly_hosp_admissions': None, 'weekly_hosp_admissions_per_million': None, 'total_tests': None, 'new_tests': None, 'total_tests_per_thousand': None, 'new_tests_per_thousand': None, 'new_tests_smoothed': None, 'new_tests_smoothed_per_thousand': None, 'positive_rate': None, 'tests_per_case': None, 'tests_units': None, 'total_vaccinations': None, 'people_vaccinated': None, 'people_fully_vaccinated': None, 'total_boosters': None, 'new_vaccinations': None, 'new_vaccinations_smoothed': None, 'total_vaccinations_per_hundred': None, 'people_vaccinated_per_hundred': None, 'people_fully_vaccinated_per_hundred': None, 'total_boosters_per_hundred': None, 'new_vaccinations_smoothed_per_million': None, 'new_people_vaccinated_smoothed': None, 'new_people_vaccinated_smoothed_per_hundred': None, 'stringency_index': None, 'population_density': 54.422, 'median_age': 18.6, 'aged_65_older': 2.581, 'aged_70_older': 1.337, 'gdp_per_capita': 1803.987, 'extreme_poverty': None, 'cardiovasc_death_rate': 597.029, 'diabetes_prevalence': 9.59, 'female_smokers': None, 'male_smokers': None, 'handwashing_facilities': 37.746, 'hospital_beds_per_thousand': 0.5, 'life_expectancy': 64.83, 'human_development_index': 0.511, 'population': 41128772.0, 'excess_mortality_cumulative_absolute': None, 'excess_mortality_cumulative': None, 'excess_mortality': None, 'excess_mortality_cumulative_per_million': None}, {'continent': None, 'location': 'OWID_AFR', 'last_updated_date': '2024-06-16', 'total_cases': 13142813.0, 'new_cases': 2.0, 'new_cases_smoothed': 0.286, 'total_deaths': 259101.0, 'new_deaths': 0.0, 'new_deaths_smoothed': 0.0, 'total_cases_per_million': 9211.8, 'new_cases_per_million': 0.001, 'new_cases_smoothed_per_million': 0.0, 'total_deaths_per_million': 181.604, 'new_deaths_per_million': 0.0, 'new_deaths_smoothed_per_million': 0.0, 'reproduction_rate': None, 'icu_patients': None, 'icu_patients_per_million': None, 'hosp_patients': None, 'hosp_patients_per_million': None, 'weekly_icu_admissions': None, 'weekly_icu_admissions_per_million': None, 'weekly_hosp_admissions': None, 'weekly_hosp_admissions_per_million': None, 'total_tests': None, 'new_tests': None, 'total_tests_per_thousand': None, 'new_tests_per_thousand': None, 'new_tests_smoothed': None, 'new_tests_smoothed_per_thousand': None, 'positive_rate': None, 'tests_per_case': None, 'tests_units': None, 'total_vaccinations': None, 'people_vaccinated': None, 'people_fully_vaccinated': None, 'total_boosters': None, 'new_vaccinations': None, 'new_vaccinations_smoothed': None, 'total_vaccinations_per_hundred': None, 'people_vaccinated_per_hundred': None, 'people_fully_vaccinated_per_hundred': None, 'total_boosters_per_hundred': None, 'new_vaccinations_smoothed_per_million': None, 'new_people_vaccinated_smoothed': None, 'new_people_vaccinated_smoothed_per_hundred': None, 'stringency_index': None, 'population_density': None, 'median_age': None, 'aged_65_older': None, 'aged_70_older': None, 'gdp_per_capita': None, 'extreme_poverty': None, 'cardiovasc_death_rate': None, 'diabetes_prevalence': None, 'female_smokers': None, 'male_smokers': None, 'handwashing_facilities': None, 'hospital_beds_per_thousand': None, 'life_expectancy': None, 'human_development_index': None, 'population': 1426736614.0, 'excess_mortality_cumulative_absolute': None, 'excess_mortality_cumulative': None, 'excess_mortality': None, 'excess_mortality_cumulative_per_million': None}, {'continent': 'Europe', 'location': 'ALB', 'last_updated_date': '2024-06-16', 'total_cases': 335047.0, 'new_cases': 0.0, 'new_cases_smoothed': 0.0, 'total_deaths': 3605.0, 'new_deaths': 0.0, 'new_deaths_smoothed': 0.0, 'total_cases_per_million': 117878.084, 'new_cases_per_million': 0.0, 'new_cases_smoothed_per_million': 0.0, 'total_deaths_per_million': 1268.331, 'new_deaths_per_million': 0.0, 'new_deaths_smoothed_per_million': 0.0, 'reproduction_rate': None, 'icu_patients': None, 'icu_patients_per_million': None, 'hosp_patients': None, 'hosp_patients_per_million': None, 'weekly_icu_admissions': None, 'weekly_icu_admissions_per_million': None, 'weekly_hosp_admissions': None, 'weekly_hosp_admissions_per_million': None, 'total_tests': None, 'new_tests': None, 'total_tests_per_thousand': None, 'new_tests_per_thousand': None, 'new_tests_smoothed': None, 'new_tests_smoothed_per_thousand': None, 'positive_rate': None, 'tests_per_case': None, 'tests_units': None, 'total_vaccinations': None, 'people_vaccinated': None, 'people_fully_vaccinated': None, 'total_boosters': None, 'new_vaccinations': None, 'new_vaccinations_smoothed': None, 'total_vaccinations_per_hundred': None, 'people_vaccinated_per_hundred': None, 'people_fully_vaccinated_per_hundred': None, 'total_boosters_per_hundred': None, 'new_vaccinations_smoothed_per_million': None, 'new_people_vaccinated_smoothed': None, 'new_people_vaccinated_smoothed_per_hundred': None, 'stringency_index': None, 'population_density': 104.871, 'median_age': 38.0, 'aged_65_older': 13.188, 'aged_70_older': 8.643, 'gdp_per_capita': 11803.431, 'extreme_poverty': 1.1, 'cardiovasc_death_rate': 304.195, 'diabetes_prevalence': 10.08, 'female_smokers': 7.1, 'male_smokers': 51.2, 'handwashing_facilities': None, 'hospital_beds_per_thousand': 2.89, 'life_expectancy': 78.57, 'human_development_index': 0.795, 'population': 2842318.0, 'excess_mortality_cumulative_absolute': None, 'excess_mortality_cumulative': None, 'excess_mortality': None, 'excess_mortality_cumulative_per_million': None}, {'continent': 'Africa', 'location': 'DZA', 'last_updated_date': '2024-06-16', 'total_cases': 272034.0, 'new_cases': 0.0, 'new_cases_smoothed': 0.0, 'total_deaths': 6881.0, 'new_deaths': 0.0, 'new_deaths_smoothed': 0.0, 'total_cases_per_million': 6058.228, 'new_cases_per_million': 0.0, 'new_cases_smoothed_per_million': 0.0, 'total_deaths_per_million': 153.241, 'new_deaths_per_million': 0.0, 'new_deaths_smoothed_per_million': 0.0, 'reproduction_rate': None, 'icu_patients': None, 'icu_patients_per_million': None, 'hosp_patients': None, 'hosp_patients_per_million': None, 'weekly_icu_admissions': None, 'weekly_icu_admissions_per_million': None, 'weekly_hosp_admissions': None, 'weekly_hosp_admissions_per_million': None, 'total_tests': None, 'new_tests': None, 'total_tests_per_thousand': None, 'new_tests_per_thousand': None, 'new_tests_smoothed': None, 'new_tests_smoothed_per_thousand': None, 'positive_rate': None, 'tests_per_case': None, 'tests_units': None, 'total_vaccinations': None, 'people_vaccinated': None, 'people_fully_vaccinated': None, 'total_boosters': None, 'new_vaccinations': None, 'new_vaccinations_smoothed': None, 'total_vaccinations_per_hundred': None, 'people_vaccinated_per_hundred': None, 'people_fully_vaccinated_per_hundred': None, 'total_boosters_per_hundred': None, 'new_vaccinations_smoothed_per_million': None, 'new_people_vaccinated_smoothed': None, 'new_people_vaccinated_smoothed_per_hundred': None, 'stringency_index': None, 'population_density': 17.348, 'median_age': 29.1, 'aged_65_older': 6.211, 'aged_70_older': 3.857, 'gdp_per_capita': 13913.839, 'extreme_poverty': 0.5, 'cardiovasc_death_rate': 278.364, 'diabetes_prevalence': 6.73, 'female_smokers': 0.7, 'male_smokers': 30.4, 'handwashing_facilities': 83.741, 'hospital_beds_per_thousand': 1.9, 'life_expectancy': 76.88, 'human_development_index': 0.748, 'population': 44903228.0, 'excess_mortality_cumulative_absolute': None, 'excess_mortality_cumulative': None, 'excess_mortality': None, 'excess_mortality_cumulative_per_million': None}, {'continent': 'Oceania', 'location': 'ASM', 'last_updated_date': '2024-06-16', 'total_cases': 8359.0, 'new_cases': 0.0, 'new_cases_smoothed': 0.0, 'total_deaths': 34.0, 'new_deaths': 0.0, 'new_deaths_smoothed': 0.0, 'total_cases_per_million': 188712.044, 'new_cases_per_million': 0.0, 'new_cases_smoothed_per_million': 0.0, 'total_deaths_per_million': 767.581, 'new_deaths_per_million': 0.0, 'new_deaths_smoothed_per_million': 0.0, 'reproduction_rate': None, 'icu_patients': None, 'icu_patients_per_million': None, 'hosp_patients': None, 'hosp_patients_per_million': None, 'weekly_icu_admissions': None, 'weekly_icu_admissions_per_million': None, 'weekly_hosp_admissions': None, 'weekly_hosp_admissions_per_million': None, 'total_tests': None, 'new_tests': None, 'total_tests_per_thousand': None, 'new_tests_per_thousand': None, 'new_tests_smoothed': None, 'new_tests_smoothed_per_thousand': None, 'positive_rate': None, 'tests_per_case': None, 'tests_units': None, 'total_vaccinations': None, 'people_vaccinated': None, 'people_fully_vaccinated': None, 'total_boosters': None, 'new_vaccinations': None, 'new_vaccinations_smoothed': None, 'total_vaccinations_per_hundred': None, 'people_vaccinated_per_hundred': None, 'people_fully_vaccinated_per_hundred': None, 'total_boosters_per_hundred': None, 'new_vaccinations_smoothed_per_million': None, 'new_people_vaccinated_smoothed': None, 'new_people_vaccinated_smoothed_per_hundred': None, 'stringency_index': None, 'population_density': 278.205, 'median_age': None, 'aged_65_older': None, 'aged_70_older': None, 'gdp_per_capita': None, 'extreme_poverty': None, 'cardiovasc_death_rate': 283.75, 'diabetes_prevalence': None, 'female_smokers': None, 'male_smokers': None, 'handwashing_facilities': None, 'hospital_beds_per_thousand': None, 'life_expectancy': 73.74, 'human_development_index': None, 'population': 44295.0, 'excess_mortality_cumulative_absolute': None, 'excess_mortality_cumulative': None, 'excess_mortality': None, 'excess_mortality_cumulative_per_million': None}]\n"
          ]
        }
      ]
    },
    {
      "cell_type": "code",
      "source": [
        "# Editing Chunk Size and Overlap\n",
        "def metadata_func(record: dict, metadata: dict) -> dict:\n",
        "    print(\"Record Type:\", type(record))\n",
        "    if isinstance(record, dict):\n",
        "        metadata[\"location\"] = record.get(\"location\", \"Unknown Location\")\n",
        "        metadata[\"last_updated_date\"] = record.get(\"last_updated_date\", \"Unknown Date\")\n",
        "        metadata[\"continent\"] = record.get(\"continent\", \"Unknown Continent\")\n",
        "    else:\n",
        "        print(\"Unexpected record type:\", type(record))\n",
        "    return metadata\n",
        "\n",
        "# Configure JSONLoader with the correct schema\n",
        "loader = JSONLoader(\n",
        "    file_path=\"temp.json\",\n",
        "    jq_schema=\".\",  # Use the entire list\n",
        "    metadata_func=metadata_func,\n",
        "    text_content=False  # Ensure text_content is False since we're working with dictionaries\n",
        ")\n",
        "\n",
        "text_splitter = RecursiveCharacterTextSplitter.from_tiktoken_encoder(\n",
        "    chunk_size=300, chunk_overlap=50  # define chunk size and chunk overlap\n",
        ")\n",
        "\n",
        "# Load and split documents\n",
        "docs = loader.load_and_split(text_splitter=text_splitter)"
      ],
      "metadata": {
        "colab": {
          "base_uri": "https://localhost:8080/"
        },
        "id": "VqtB7Z4KRXoV",
        "outputId": "9afc104e-f4ac-49fc-d51e-7823486494ff"
      },
      "execution_count": 49,
      "outputs": [
        {
          "output_type": "stream",
          "name": "stdout",
          "text": [
            "Record Type: <class 'list'>\n",
            "Unexpected record type: <class 'list'>\n",
            "Record Type: <class 'list'>\n",
            "Unexpected record type: <class 'list'>\n"
          ]
        }
      ]
    },
    {
      "cell_type": "code",
      "source": [
        "# Initiating Model + Temp\n",
        "documents = vectorstore.from_documents(\n",
        "    docs,\n",
        "    embeddings,\n",
        "    index_name=\"elastic-search\",\n",
        "    es_cloud_id=ELASTIC_CLOUD_ID,\n",
        "    es_api_key=ELASTIC_API_KEY,\n",
        ")\n",
        "\n",
        "llm = OpenAI(temperature=0.5, openai_api_key=OPENAI_API_KEY)\n",
        "\n",
        "retriever = MultiQueryRetriever.from_llm(vectorstore.as_retriever(), llm)"
      ],
      "metadata": {
        "id": "DFmvE1c1LvJY"
      },
      "execution_count": 50,
      "outputs": []
    },
    {
      "cell_type": "code",
      "source": [
        "logging.basicConfig()\n",
        "logging.getLogger(\"langchain.retrievers.multi_query\").setLevel(logging.INFO)\n",
        "\n",
        "LLM_CONTEXT_PROMPT = ChatPromptTemplate.from_template(\n",
        "    \"\"\"You are an assistant for question-answering tasks. Use the following pieces of retrieved context to answer the question. If you don't know the answer, just say that you don't know. Be as verbose and educational in your response as possible.\n",
        "\n",
        "    context: {context}\n",
        "    Question: \"{question}\"\n",
        "    Answer:\n",
        "    \"\"\"\n",
        ")\n",
        "\n",
        "LLM_DOCUMENT_PROMPT = PromptTemplate.from_template(\n",
        "    \"\"\"\n",
        "---\n",
        "SOURCE: {name}\n",
        "{page_content}\n",
        "---\n",
        "\"\"\"\n",
        ")\n",
        "\n",
        "def _combine_documents(\n",
        "    docs, document_prompt=LLM_DOCUMENT_PROMPT, document_separator=\"\\n\\n\"\n",
        "):\n",
        "    # Ensure each document has the required 'name' metadata\n",
        "    for doc in docs:\n",
        "        if 'name' not in doc.metadata:\n",
        "            doc.metadata['name'] = 'Unknown Source'  # Default value if 'name' is missing\n",
        "\n",
        "    doc_strings = [format_document(doc, document_prompt) for doc in docs]\n",
        "    return document_separator.join(doc_strings)\n",
        "\n",
        "_context = RunnableParallel(\n",
        "    context=retriever | _combine_documents,\n",
        "    question=RunnablePassthrough(),\n",
        ")\n",
        "\n",
        "chain = _context | LLM_CONTEXT_PROMPT | llm\n",
        "\n",
        "ans = chain.invoke(\"Which is the least vaccinated country in the world?\")\n",
        "\n",
        "print(\"---- Answer ----\")\n",
        "print(ans)"
      ],
      "metadata": {
        "colab": {
          "base_uri": "https://localhost:8080/"
        },
        "id": "mNMKZppsLvLX",
        "outputId": "1a27aa39-ba64-43da-cc38-d273f52d7fd5"
      },
      "execution_count": 51,
      "outputs": [
        {
          "output_type": "stream",
          "name": "stderr",
          "text": [
            "INFO:langchain.retrievers.multi_query:Generated queries: ['1. What is the country with the lowest vaccination rate globally?', \"2. Can you provide information on the world's least vaccinated nation?\", '3. Which country has the lowest number of vaccinated individuals?']\n"
          ]
        },
        {
          "output_type": "stream",
          "name": "stdout",
          "text": [
            "---- Answer ----\n",
            "\n",
            "I'm sorry, I do not have enough information to determine the least vaccinated country in the world. The context pieces provided do not specify the country names or their vaccination rates. Can you provide more specific information for me to answer your question accurately?\n"
          ]
        }
      ]
    },
    {
      "cell_type": "code",
      "source": [
        "limited_docs = docs[:5]  # otherwise we always exceed the token limit\n",
        "\n",
        "# Create a new chain function\n",
        "def create_new_chain():\n",
        "    return _context | LLM_CONTEXT_PROMPT | llm\n",
        "\n",
        "\n",
        "chain = create_new_chain()\n",
        "ans = chain.invoke(\"Which country was most affected financially from Covid?\")\n",
        "print(\"---- Answer ----\")\n",
        "print(ans)\n",
        "\n",
        "\n",
        "chain = create_new_chain()\n",
        "ans = chain.invoke(\"Which country had the least vaccination rate?\")\n",
        "print(\"---- Answer ----\")\n",
        "print(ans)"
      ],
      "metadata": {
        "colab": {
          "base_uri": "https://localhost:8080/"
        },
        "id": "ZmnxlUMPLvNu",
        "outputId": "18acf031-f606-4169-b8ec-cfb705a95e90"
      },
      "execution_count": 57,
      "outputs": [
        {
          "output_type": "stream",
          "name": "stderr",
          "text": [
            "INFO:langchain.retrievers.multi_query:Generated queries: ['1. What was the country that suffered the greatest financial impact from Covid?', '2. Which nation experienced the most significant financial consequences due to Covid?', '3. In terms of financial impact, which country was hit the hardest by Covid?']\n"
          ]
        },
        {
          "output_type": "stream",
          "name": "stdout",
          "text": [
            "---- Answer ----\n",
            "I don't know which country was most affected financially from Covid, as the context provided does not contain information about the financial impact of Covid on different countries. The context only provides information about the number of cases, deaths, and other related statistics in different countries. Without more specific information about the financial impact of Covid, it is not possible to determine which country was most affected.\n"
          ]
        },
        {
          "output_type": "stream",
          "name": "stderr",
          "text": [
            "INFO:langchain.retrievers.multi_query:Generated queries: ['1. What is the country with the lowest vaccination rate?', '2. Which nation has the lowest percentage of vaccinated individuals?', '3. Can you suggest a country with a low rate of vaccination?']\n"
          ]
        },
        {
          "output_type": "stream",
          "name": "stdout",
          "text": [
            "---- Answer ----\n",
            "\n",
            "I am unable to answer that question as the context provided does not specify the country of the retrieved data. Without that information, I am unable to determine which country had the least vaccination rate. \n"
          ]
        }
      ]
    },
    {
      "cell_type": "code",
      "source": [
        "chain = create_new_chain()\n",
        "ans = chain.invoke(\"Which is the most vaccinated country in the world?\")\n",
        "print(\"---- Answer ----\")\n",
        "print(ans)"
      ],
      "metadata": {
        "colab": {
          "base_uri": "https://localhost:8080/"
        },
        "id": "GqMCmAoUMkXd",
        "outputId": "57039699-07d7-437d-b70c-0b3b5a534a27"
      },
      "execution_count": 59,
      "outputs": [
        {
          "output_type": "stream",
          "name": "stderr",
          "text": [
            "INFO:langchain.retrievers.multi_query:Generated queries: ['1. What is the country with the highest vaccination rate globally?', '2. Which nation has the highest percentage of vaccinated population?', '3. Can you suggest the top country in terms of COVID-19 vaccination coverage?']\n"
          ]
        },
        {
          "output_type": "stream",
          "name": "stdout",
          "text": [
            "---- Answer ----\n",
            "\n",
            "The most vaccinated country in the world is currently the United States, with a total of 951,112,815 vaccinations as of the last updated date of July 4th, 2024. This includes 338,119,516 people who have received at least one dose and 327,967,397 people who are fully vaccinated. The country also has a total of 282,438,401 booster shots administered. The total number of vaccinations per hundred people in the US is 211.29, with 75.11 people vaccinated per hundred and 72.86 people fully vaccinated per hundred. However, it's worth noting that the numbers for other countries may not be accurate as some may not report their data or may not have access to as many vaccines.\n"
          ]
        }
      ]
    },
    {
      "cell_type": "code",
      "source": [
        "chain = create_new_chain()\n",
        "ans = chain.invoke(\"country with the most cases?\")\n",
        "print(\"---- Answer ----\")\n",
        "print(ans)"
      ],
      "metadata": {
        "colab": {
          "base_uri": "https://localhost:8080/"
        },
        "id": "qcjjMKgLVLge",
        "outputId": "9c60576f-dc68-412c-f885-636c9ffd2adc"
      },
      "execution_count": 60,
      "outputs": [
        {
          "output_type": "stream",
          "name": "stderr",
          "text": [
            "INFO:langchain.retrievers.multi_query:Generated queries: ['1. What is the country with the highest number of reported cases?', '2. Which nation has the highest count of confirmed cases?', '3. Can you tell me the country with the greatest number of COVID-19 cases?']\n"
          ]
        },
        {
          "output_type": "stream",
          "name": "stdout",
          "text": [
            "---- Answer ----\n",
            "\n",
            "The country with the most cases is currently China, with a total of 99,361,338 cases as of June 16, 2024. However, it is important to note that this data is from an unknown source and may not be accurate. Other countries with high numbers of cases include Chile in South America with 5,400,569 cases and Kuwait in Asia with 667,290 cases. It is also worth mentioning that New Zealand, a country in Oceania, has a significantly lower number of cases at 2,614,723 as of June 30, 2024. \n"
          ]
        }
      ]
    },
    {
      "cell_type": "code",
      "source": [],
      "metadata": {
        "id": "ZACiEjHQVgZ1"
      },
      "execution_count": null,
      "outputs": []
    }
  ],
  "metadata": {
    "kernelspec": {
      "display_name": "Python 3 (ipykernel)",
      "language": "python",
      "name": "python3"
    },
    "language_info": {
      "codemirror_mode": {
        "name": "ipython",
        "version": 3
      },
      "file_extension": ".py",
      "mimetype": "text/x-python",
      "name": "python",
      "nbconvert_exporter": "python",
      "pygments_lexer": "ipython3",
      "version": "3.11.8"
    },
    "colab": {
      "provenance": []
    }
  },
  "nbformat": 4,
  "nbformat_minor": 0
}